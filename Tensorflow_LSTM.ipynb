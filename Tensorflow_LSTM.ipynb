{
 "cells": [
  {
   "cell_type": "code",
   "execution_count": 1,
   "metadata": {},
   "outputs": [
    {
     "name": "stdout",
     "output_type": "stream",
     "text": [
      "Extracting MNIST_data\\train-images-idx3-ubyte.gz\n",
      "Extracting MNIST_data\\train-labels-idx1-ubyte.gz\n",
      "Extracting MNIST_data\\t10k-images-idx3-ubyte.gz\n",
      "Extracting MNIST_data\\t10k-labels-idx1-ubyte.gz\n",
      "(55000, 784)\n"
     ]
    }
   ],
   "source": [
    "import tensorflow as tf\n",
    "import numpy as np\n",
    "from tensorflow.contrib import rnn\n",
    "from tensorflow.examples.tutorials.mnist import input_data\n",
    "\n",
    "config=tf.ConfigProto()\n",
    "config.gpu_options.allow_growth=True\n",
    "sess=tf.Session(config=config)\n",
    "\n",
    "mnist = input_data.read_data_sets('MNIST_data',one_hot=True)\n",
    "print(mnist.train.images.shape)"
   ]
  },
  {
   "cell_type": "code",
   "execution_count": 2,
   "metadata": {
    "collapsed": true
   },
   "outputs": [],
   "source": [
    "\n",
    "\n",
    "lr = 1e-3\n",
    "input_size = 28      # 每个时刻的输入特征是28维的，就是每个时刻输入一行，一行有 28 个像素\n",
    "timestep_size = 28   # 时序持续长度为28，即每做一次预测，需要先输入28行\n",
    "hidden_size = 256    # 隐含层的数量\n",
    "layer_num = 2        # LSTM layer 的层数\n",
    "class_num = 10       # 最后输出分类类别数量，如果是回归预测的话应该是 1\n",
    "\n",
    "_X = tf.placeholder(tf.float32, [None, 784])\n",
    "y = tf.placeholder(tf.float32, [None, class_num])\n",
    "# 在训练和测试的时候，我们想用不同的 batch_size.所以采用占位符的方式\n",
    "batch_size = tf.placeholder(tf.int32, [])  # 注意类型必须为 tf.int32, batch_size = 128\n",
    "keep_prob = tf.placeholder(tf.float32, [])"
   ]
  },
  {
   "cell_type": "code",
   "execution_count": 3,
   "metadata": {
    "collapsed": true
   },
   "outputs": [],
   "source": [
    "# 把784个点的字符信息还原成 28 * 28 的图片\n",
    "# 下面几个步骤是实现 RNN / LSTM 的关键\n",
    "####################################################################\n",
    "# **步骤1：RNN 的输入shape = (batch_size, timestep_size, input_size) \n",
    "X = tf.reshape(_X, [-1, 28, 28])\n",
    "\n",
    "# # **步骤2：定义一层 LSTM_cell，只需要说明 hidden_size, 它会自动匹配输入的 X 的维度\n",
    "# lstm_cell = rnn.BasicLSTMCell(num_units=hidden_size, forget_bias=1.0, state_is_tuple=True)\n",
    "\n",
    "# # **步骤3：添加 dropout layer, 一般只设置 output_keep_prob\n",
    "# lstm_cell = rnn.DropoutWrapper(cell=lstm_cell, input_keep_prob=1.0, output_keep_prob=keep_prob)\n",
    "\n",
    "# # **步骤4：调用 MultiRNNCell 来实现多层 LSTM\n",
    "# mlstm_cell = rnn.MultiRNNCell([lstm_cell] * layer_num, state_is_tuple=True)\n",
    "# mlstm_cell = rnn.MultiRNNCell([lstm_cell for _ in range(layer_num)] , state_is_tuple=True)\n",
    "\n",
    "# 在 tf 1.0.0 版本中，可以使用上面的 三个步骤创建多层 lstm， 但是在 tf 1.2.1 版本中，可以通过下面方式来创建\n",
    "def lstm_cell():\n",
    "    cell = rnn.LSTMCell(hidden_size, reuse=tf.get_variable_scope().reuse)\n",
    "    return rnn.DropoutWrapper(cell, output_keep_prob=keep_prob)\n",
    "\n",
    "mlstm_cell = tf.contrib.rnn.MultiRNNCell([lstm_cell() for _ in range(layer_num)], state_is_tuple = True)\n",
    "\n",
    "# **步骤5：用全零来初始化state\n",
    "init_state = mlstm_cell.zero_state(batch_size, dtype=tf.float32)\n",
    "\n",
    "# **步骤6：方法一，调用 dynamic_rnn() 来让我们构建好的网络运行起来\n",
    "# ** 当 time_major==False 时， outputs.shape = [batch_size, timestep_size, hidden_size] \n",
    "# ** 所以，可以取 h_state = outputs[:, -1, :] 作为最后输出\n",
    "# ** state.shape = [layer_num, 2, batch_size, hidden_size], \n",
    "# ** 或者，可以取 h_state = state[-1][1] 作为最后输出\n",
    "# ** 最后输出维度是 [batch_size, hidden_size]\n",
    "outputs, state = tf.nn.dynamic_rnn(mlstm_cell, inputs=X, initial_state=init_state, time_major=False)\n",
    "h_state = state[-1][1]\n",
    "\n",
    "# *************** 为了更好的理解 LSTM 工作原理，我们把上面 步骤6 中的函数自己来实现 ***************\n",
    "# 通过查看文档你会发现， RNNCell 都提供了一个 __call__()函数，我们可以用它来展开实现LSTM按时间步迭代。\n",
    "# **步骤6：方法二，按时间步展开计算\n",
    "# outputs = list()\n",
    "# state = init_state\n",
    "# with tf.variable_scope('RNN'):\n",
    "#     for timestep in range(timestep_size):\n",
    "#         if timestep > 0:\n",
    "#             tf.get_variable_scope().reuse_variables()\n",
    "#         # 这里的state保存了每一层 LSTM 的状态\n",
    "#         (cell_output, state) = mlstm_cell(X[:, timestep, :],state)\n",
    "#         outputs.append(cell_output)\n",
    "# h_state = outputs[-1]"
   ]
  },
  {
   "cell_type": "code",
   "execution_count": 5,
   "metadata": {},
   "outputs": [
    {
     "name": "stdout",
     "output_type": "stream",
     "text": [
      "Tensor(\"Softmax_1:0\", shape=(?, 10), dtype=float32)\n",
      "(128, 784)\n",
      "Iter5, step 200, training accuracy 0.9375\n",
      "Tensor(\"Softmax_1:0\", shape=(?, 10), dtype=float32)\n",
      "(128, 784)\n",
      "Iter5, step 400, training accuracy 0.976562\n",
      "Tensor(\"Softmax_1:0\", shape=(?, 10), dtype=float32)\n",
      "(128, 784)\n",
      "Iter6, step 600, training accuracy 0.96875\n",
      "Tensor(\"Softmax_1:0\", shape=(?, 10), dtype=float32)\n",
      "(128, 784)\n",
      "Iter6, step 800, training accuracy 0.984375\n",
      "Tensor(\"Softmax_1:0\", shape=(?, 10), dtype=float32)\n",
      "(128, 784)\n",
      "Iter6, step 1000, training accuracy 0.984375\n",
      "Tensor(\"Softmax_1:0\", shape=(?, 10), dtype=float32)\n",
      "(128, 784)\n",
      "Iter7, step 1200, training accuracy 0.984375\n",
      "Tensor(\"Softmax_1:0\", shape=(?, 10), dtype=float32)\n",
      "(128, 784)\n",
      "Iter7, step 1400, training accuracy 0.984375\n",
      "Tensor(\"Softmax_1:0\", shape=(?, 10), dtype=float32)\n",
      "(128, 784)\n",
      "Iter8, step 1600, training accuracy 0.992188\n",
      "Tensor(\"Softmax_1:0\", shape=(?, 10), dtype=float32)\n",
      "(128, 784)\n",
      "Iter8, step 1800, training accuracy 0.984375\n",
      "Tensor(\"Softmax_1:0\", shape=(?, 10), dtype=float32)\n",
      "(128, 784)\n",
      "Iter9, step 2000, training accuracy 0.992188\n",
      "test accuracy 0.9863\n"
     ]
    }
   ],
   "source": [
    "W=tf.Variable(tf.truncated_normal([hidden_size,class_num],stddev=0.1),dtype=tf.float32)\n",
    "bias=tf.Variable(tf.constant(0.1,shape=[class_num]),dtype=tf.float32)\n",
    "y_pred=tf.nn.softmax(tf.matmul(h_state,W)+bias)\n",
    "cross_entropy=-tf.reduce_mean(y*tf.log(y_pred))\n",
    "train_op=tf.train.AdamOptimizer(lr).minimize(cross_entropy)\n",
    "\n",
    "correct_prediction=tf.equal(tf.argmax(y_pred,1),tf.argmax(y,1))\n",
    "accuracy=tf.reduce_mean(tf.cast(correct_prediction,\"float\"))\n",
    "\n",
    "sess.run(tf.global_variables_initializer())\n",
    "for i in range(2000):\n",
    "    _batch_size=128\n",
    "    batch=mnist.train.next_batch(_batch_size)\n",
    "    if (i+1)%200 ==0:\n",
    "        train_accuracy=sess.run(accuracy,feed_dict={\n",
    "            _X:batch[0],y:batch[1],keep_prob:1.0,batch_size:_batch_size\n",
    "        })\n",
    "        print(y_pred)\n",
    "        print(batch[0].shape)\n",
    "        print(\"Iter%d, step %d, training accuracy %g\" % (mnist.train.epochs_completed,(i+1),train_accuracy))\n",
    "    sess.run(train_op,feed_dict={_X:batch[0],y:batch[1],keep_prob:0.5,batch_size:_batch_size})\n",
    "print(\"test accuracy %g\"% sess.run(accuracy,feed_dict={\n",
    "    _X:mnist.test.images,y:mnist.test.labels,keep_prob:1.0,batch_size:mnist.test.images.shape[0]\n",
    "}))"
   ]
  },
  {
   "cell_type": "code",
   "execution_count": 6,
   "metadata": {},
   "outputs": [
    {
     "name": "stdout",
     "output_type": "stream",
     "text": [
      "(5, 784) (5, 10)\n",
      "outputs.shape= (5, 28, 256)\n",
      "arr_state.shape= (2, 2, 5, 256)\n",
      "[[-0.29114476 -0.84908068 -0.02608863 ..., -0.26059726 -0.41139302\n",
      "   0.59013247]\n",
      " [-0.6596756   0.1405973   0.32068741 ...,  0.78834546 -0.85109633\n",
      "  -0.55030227]\n",
      " [ 0.91946286 -0.6195702   0.00405734 ...,  0.50050467  0.4910633\n",
      "  -0.59666592]\n",
      " [-0.89336431  0.21388607  0.50573528 ...,  0.75225669  0.6082601\n",
      "  -0.56074399]\n",
      " [-0.36205587 -0.87424242  0.77999097 ...,  0.395004   -0.788903\n",
      "  -0.25867409]]\n",
      "[[ 0.02811883 -0.1008996   0.03933555 ..., -0.26678833 -0.0076026\n",
      "  -0.04358114]\n",
      " [-0.27545795  0.08285692 -0.09781252 ..., -0.40972584  0.14314541\n",
      "   0.83173752]\n",
      " [-0.21126685  0.08805162  0.52263641 ..., -0.16019027  0.06584492\n",
      "   0.14457463]\n",
      " [ 0.10716452  0.02429411  0.23363011 ...,  0.07705231  0.1158627\n",
      "   0.38137382]\n",
      " [ 0.10278453 -0.19593915  0.18716493 ..., -0.15240444 -0.24707885\n",
      "   0.18361446]]\n"
     ]
    }
   ],
   "source": [
    "_batch_size=5\n",
    "X_batch,y_batch=mnist.test.next_batch(_batch_size)\n",
    "print(X_batch.shape,y_batch.shape)\n",
    "_outputs,_state=sess.run([outputs,state],feed_dict={\n",
    "    _X:X_batch,y:y_batch,keep_prob:1.0,batch_size:_batch_size\n",
    "})\n",
    "print('outputs.shape=',np.asarray(_outputs).shape)\n",
    "print('arr_state.shape=',np.asarray(_state).shape)\n",
    "\n",
    "print(np.asarray(_state[-1][1]))\n",
    "print(np.asarray(_state[0][1]))\n"
   ]
  },
  {
   "cell_type": "code",
   "execution_count": 7,
   "metadata": {
    "collapsed": true
   },
   "outputs": [],
   "source": [
    "import matplotlib.pyplot as plt"
   ]
  },
  {
   "cell_type": "code",
   "execution_count": 8,
   "metadata": {},
   "outputs": [
    {
     "name": "stdout",
     "output_type": "stream",
     "text": [
      "[ 0.  0.  0.  0.  0.  0.  0.  1.  0.  0.]\n"
     ]
    }
   ],
   "source": [
    "print(mnist.train.labels[4])"
   ]
  },
  {
   "cell_type": "code",
   "execution_count": 9,
   "metadata": {},
   "outputs": [
    {
     "name": "stdout",
     "output_type": "stream",
     "text": [
      "(28, 28)\n"
     ]
    },
    {
     "data": {
      "image/png": "[encoded data removed]",
      "text/plain": [
       "<matplotlib.figure.Figure at 0x132c7320>"
      ]
     },
     "metadata": {},
     "output_type": "display_data"
    }
   ],
   "source": [
    "X3=mnist.train.images[3]\n",
    "img3=X3.reshape([28,28])\n",
    "print(img3.shape)\n",
    "plt.imshow(img3,cmap='gray')\n",
    "plt.show()"
   ]
  },
  {
   "cell_type": "code",
   "execution_count": 10,
   "metadata": {},
   "outputs": [
    {
     "name": "stdout",
     "output_type": "stream",
     "text": [
      "(1, 28, 256)\n",
      "(28, 256)\n"
     ]
    }
   ],
   "source": [
    "X3.shape=[-1,784]\n",
    "y_batch=mnist.train.labels[0]\n",
    "y_batch.shape=[-1,class_num]\n",
    "\n",
    "X3_outputs=np.array(sess.run(outputs,feed_dict={\n",
    "    _X:X3,y:y_batch,keep_prob:1.0,batch_size:1\n",
    "}))\n",
    "print(X3_outputs.shape)\n",
    "X3_outputs.shape=[28,hidden_size]\n",
    "print(X3_outputs.shape)"
   ]
  },
  {
   "cell_type": "code",
   "execution_count": 11,
   "metadata": {},
   "outputs": [
    {
     "name": "stdout",
     "output_type": "stream",
     "text": [
      "[[-0.08456483  0.08745969 -0.07621165 ..., -0.00773322 -0.15107249\n",
      "   0.10566489]\n",
      " [ 0.26069802  0.13171725  0.0247799  ...,  0.08384562  0.06285298\n",
      "   0.03339371]\n",
      " [-0.02133826 -0.08564553  0.09821648 ...,  0.05742728  0.02910433\n",
      "   0.17623523]\n",
      " ..., \n",
      " [ 0.14126052  0.15447645 -0.08539373 ..., -0.27805188  0.12536794\n",
      "   0.0209918 ]\n",
      " [-0.11653625  0.07422358  0.14709686 ..., -0.03686545  0.01324715\n",
      "  -0.12571484]\n",
      " [-0.14584878  0.00623576  0.01669303 ...,  0.08890152 -0.1124042\n",
      "  -0.15828955]]\n",
      "[ 0.0999197   0.14981271  0.07992077  0.08728788  0.08243027  0.11954871\n",
      "  0.08033348  0.12624525  0.10010903  0.08718728]\n"
     ]
    },
    {
     "data": {
      "image/png": "[encoded data removed]",
      "text/plain": [
       "<matplotlib.figure.Figure at 0x13822240>"
      ]
     },
     "metadata": {},
     "output_type": "display_data"
    }
   ],
   "source": [
    "h_W=sess.run(W,feed_dict={\n",
    "    _X:X3,y:y_batch,keep_prob:1.0,batch_size:1\n",
    "})\n",
    "print(h_W)\n",
    "h_bias=sess.run(bias,feed_dict={\n",
    "    _X:X3,y:y_batch,keep_prob:1.0,batch_size:1\n",
    "})\n",
    "print(h_bias)\n",
    "bar_index=range(class_num)\n",
    "for i in range(X3_outputs.shape[0]):\n",
    "    plt.subplot(7,4,i+1)\n",
    "    x3_h_shate=X3_outputs[i,:].reshape([-1,hidden_size])\n",
    "    pro=sess.run(tf.nn.softmax(tf.matmul(x3_h_shate,h_W)+h_bias))\n",
    "    plt.bar(bar_index,pro[0],width=0.2,align='center')\n",
    "    plt.axis('off')\n",
    "plt.show()"
   ]
  },
  {
   "cell_type": "code",
   "execution_count": null,
   "metadata": {
    "collapsed": true
   },
   "outputs": [],
   "source": []
  }
 ],
 "metadata": {
  "kernelspec": {
   "display_name": "Python 3",
   "language": "python",
   "name": "python3"
  },
  "language_info": {
   "codemirror_mode": {
    "name": "ipython",
    "version": 3
   },
   "file_extension": ".py",
   "mimetype": "text/x-python",
   "name": "python",
   "nbconvert_exporter": "python",
   "pygments_lexer": "ipython3",
   "version": "3.6.1"
  }
 },
 "nbformat": 4,
 "nbformat_minor": 2
}
